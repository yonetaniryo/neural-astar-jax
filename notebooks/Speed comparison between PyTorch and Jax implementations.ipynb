{
 "cells": [
  {
   "cell_type": "markdown",
   "id": "e2754470-87a4-4ba9-9d84-cec3cf1c603d",
   "metadata": {},
   "source": [
    "Let's evaluate a problem instance with 64x64-sized maps."
   ]
  },
  {
   "cell_type": "code",
   "execution_count": 1,
   "id": "2711c1be-8cd4-4bb9-af2d-d82dca88e895",
   "metadata": {
    "tags": []
   },
   "outputs": [
    {
     "name": "stderr",
     "output_type": "stream",
     "text": [
      "/home/yonetani/programs/neural-astar-jax/.venv/lib/python3.9/site-packages/tqdm/auto.py:22: TqdmWarning: IProgress not found. Please update jupyter and ipywidgets. See https://ipywidgets.readthedocs.io/en/stable/user_install.html\n",
      "  from .autonotebook import tqdm as notebook_tqdm\n",
      "WARNING:absl:No GPU/TPU found, falling back to CPU. (Set TF_CPP_MIN_LOG_LEVEL=0 and rerun for more info.)\n"
     ]
    },
    {
     "name": "stdout",
     "output_type": "stream",
     "text": [
      "Number of Test Samples: 400\n",
      "\tSize: 64x64\n"
     ]
    }
   ],
   "source": [
    "from neural_astar.utils.data import create_dataloader\n",
    "import jax\n",
    "import jax.numpy as jnp\n",
    "\n",
    "dataloader = create_dataloader(\"../planning-datasets/data/mpd/all_064_moore_c16.npz\", \"test\", 1)\n",
    "map_design, start_map, goal_map, opt_traj = next(iter(dataloader))\n",
    "\n",
    "# Convert variables into jax.numpy.array\n",
    "map_design_j = jnp.array(map_design)[:, 0]\n",
    "start_map_j = jnp.array(start_map)[:, 0]\n",
    "goal_map_j = jnp.array(goal_map)[:, 0]"
   ]
  },
  {
   "cell_type": "markdown",
   "id": "527adc86-24e0-496b-9ee8-5b971c201eeb",
   "metadata": {},
   "source": [
    "Here we use `VanillaAstar` that consists of only differentiable astar."
   ]
  },
  {
   "cell_type": "code",
   "execution_count": 2,
   "id": "0f22d726-dc9c-4614-89c3-3a6d19e80528",
   "metadata": {
    "tags": []
   },
   "outputs": [
    {
     "name": "stderr",
     "output_type": "stream",
     "text": [
      "/home/yonetani/programs/neural-astar-jax/.venv/lib/python3.9/site-packages/torch/functional.py:478: UserWarning: torch.meshgrid: in an upcoming release, it will be required to pass the indexing argument. (Triggered internally at  ../aten/src/ATen/native/TensorShape.cpp:2895.)\n",
      "  return _VF.meshgrid(tensors, **kwargs)  # type: ignore[attr-defined]\n"
     ]
    },
    {
     "name": "stdout",
     "output_type": "stream",
     "text": [
      "199 ms ± 3.67 ms per loop (mean ± std. dev. of 7 runs, 10 loops each)\n"
     ]
    }
   ],
   "source": [
    "from neural_astar.planner.astar import VanillaAstar as VanillaAstarPyTorch\n",
    "\n",
    "va_pytorch = VanillaAstarPyTorch()\n",
    "%timeit va_pytorch(map_design, start_map, goal_map)"
   ]
  },
  {
   "cell_type": "code",
   "execution_count": 3,
   "id": "0e20946a-8a4e-44c5-947a-be096636b9c0",
   "metadata": {
    "tags": []
   },
   "outputs": [
    {
     "name": "stdout",
     "output_type": "stream",
     "text": [
      "70.9 ms ± 738 µs per loop (mean ± std. dev. of 7 runs, 1 loop each)\n"
     ]
    }
   ],
   "source": [
    "from neural_astar_jax.planner.astar import VanillaAstar as VanillaAstarJax\n",
    "\n",
    "va_jax = VanillaAstarJax()\n",
    "# model initialization\n",
    "variables = va_jax.init(jax.random.PRNGKey(0), map_design_j, start_map_j, goal_map_j)\n",
    "# and jit-compiling forward function\n",
    "va_jax_apply = jax.jit(va_jax.apply)\n",
    "\n",
    "%timeit va_jax_apply(variables, map_design_j, start_map_j, goal_map_j)"
   ]
  },
  {
   "cell_type": "code",
   "execution_count": null,
   "id": "13debec6-bb3b-4772-a3ec-ff18f8021c81",
   "metadata": {},
   "outputs": [],
   "source": []
  }
 ],
 "metadata": {
  "kernelspec": {
   "display_name": "Python 3 (ipykernel)",
   "language": "python",
   "name": "python3"
  },
  "language_info": {
   "codemirror_mode": {
    "name": "ipython",
    "version": 3
   },
   "file_extension": ".py",
   "mimetype": "text/x-python",
   "name": "python",
   "nbconvert_exporter": "python",
   "pygments_lexer": "ipython3",
   "version": "3.9.5"
  }
 },
 "nbformat": 4,
 "nbformat_minor": 5
}
