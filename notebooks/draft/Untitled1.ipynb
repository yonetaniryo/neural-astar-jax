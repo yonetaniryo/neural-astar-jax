{
 "cells": [
  {
   "cell_type": "code",
   "execution_count": 1,
   "id": "5f9de3d0-4c15-486d-83fb-ce1ea52f9eee",
   "metadata": {
    "tags": []
   },
   "outputs": [],
   "source": [
    "from neural_astar_jax.utils import data\n",
    "from neural_astar_jax.utils import training\n",
    "import matplotlib.pyplot as plt\n",
    "import jax\n",
    "import jax.numpy as jnp\n",
    "from importlib import reload\n",
    "from neural_astar_jax.planner import astar, differentiable_astar\n",
    "reload(data)\n",
    "reload(training)\n",
    "reload(differentiable_astar)\n",
    "reload(astar)\n",
    "import optax\n",
    "from flax.training.train_state import TrainState"
   ]
  },
  {
   "cell_type": "code",
   "execution_count": 2,
   "id": "d4d4b979-1047-4077-9e2b-968264844a4d",
   "metadata": {
    "tags": []
   },
   "outputs": [
    {
     "name": "stderr",
     "output_type": "stream",
     "text": [
      "WARNING:absl:No GPU/TPU found, falling back to CPU. (Set TF_CPP_MIN_LOG_LEVEL=0 and rerun for more info.)\n"
     ]
    }
   ],
   "source": [
    "planner = astar.NeuralAstar(is_training=True, search_step_ratio=0.25)\n",
    "train_loader = data.MazeDataLoader(filename=\"../../planning-datasets/data/mpd/mazes_032_moore_c8.npz\", split=\"train\", batch_size=100)\n",
    "val_loader = data.MazeDataLoader(filename=\"../../planning-datasets/data/mpd/mazes_032_moore_c8.npz\", split=\"val\", batch_size=1)\n",
    "trainer = training.Trainer(planner=planner, train_loader=train_loader, val_loader=val_loader, val_every_n_steps=1)"
   ]
  },
  {
   "cell_type": "code",
   "execution_count": 3,
   "id": "908370c1-91d4-4ee6-a1e1-d1489e8284db",
   "metadata": {
    "tags": []
   },
   "outputs": [
    {
     "name": "stdout",
     "output_type": "stream",
     "text": [
      "step=00, train_loss=0.0527, val_loss=0.0760, p_opt=0.3400, p_exp=0.4449, h_mean=0.3854\n",
      "best model updated (h_mean=0.3854 > best_h_mean=-inf)\n",
      "step=01, train_loss=0.0635, val_loss=0.0753, p_opt=0.3500, p_exp=0.4454, h_mean=0.3920\n",
      "best model updated (h_mean=0.3920 > best_h_mean=0.3854)\n",
      "step=02, train_loss=0.0537, val_loss=0.0757, p_opt=0.3200, p_exp=0.4446, h_mean=0.3722\n",
      "step=03, train_loss=0.0570, val_loss=0.0753, p_opt=0.3300, p_exp=0.4487, h_mean=0.3803\n",
      "step=04, train_loss=0.0590, val_loss=0.0732, p_opt=0.3500, p_exp=0.4628, h_mean=0.3986\n",
      "best model updated (h_mean=0.3986 > best_h_mean=0.3920)\n",
      "step=05, train_loss=0.0558, val_loss=0.0730, p_opt=0.3200, p_exp=0.4647, h_mean=0.3790\n",
      "step=06, train_loss=0.0616, val_loss=0.0730, p_opt=0.3400, p_exp=0.4655, h_mean=0.3930\n",
      "step=07, train_loss=0.0538, val_loss=0.0727, p_opt=0.3400, p_exp=0.4651, h_mean=0.3928\n",
      "step=08, train_loss=0.0605, val_loss=0.0725, p_opt=0.3500, p_exp=0.4688, h_mean=0.4008\n",
      "best model updated (h_mean=0.4008 > best_h_mean=0.3986)\n",
      "step=09, train_loss=0.0522, val_loss=0.0720, p_opt=0.3400, p_exp=0.4733, h_mean=0.3957\n"
     ]
    }
   ],
   "source": [
    "state = trainer.fit(jax.random.PRNGKey(0))"
   ]
  },
  {
   "cell_type": "code",
   "execution_count": null,
   "id": "eed130d7-c76b-4d03-a729-f861cf3414fb",
   "metadata": {},
   "outputs": [],
   "source": []
  }
 ],
 "metadata": {
  "kernelspec": {
   "display_name": "Python 3 (ipykernel)",
   "language": "python",
   "name": "python3"
  },
  "language_info": {
   "codemirror_mode": {
    "name": "ipython",
    "version": 3
   },
   "file_extension": ".py",
   "mimetype": "text/x-python",
   "name": "python",
   "nbconvert_exporter": "python",
   "pygments_lexer": "ipython3",
   "version": "3.9.5"
  }
 },
 "nbformat": 4,
 "nbformat_minor": 5
}
