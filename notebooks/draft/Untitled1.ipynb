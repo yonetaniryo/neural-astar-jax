{
 "cells": [
  {
   "cell_type": "code",
   "execution_count": 13,
   "id": "5f9de3d0-4c15-486d-83fb-ce1ea52f9eee",
   "metadata": {
    "tags": []
   },
   "outputs": [],
   "source": [
    "from neural_astar_jax.utils import data\n",
    "from neural_astar_jax.utils import training\n",
    "import matplotlib.pyplot as plt\n",
    "import jax\n",
    "from importlib import reload\n",
    "from neural_astar_jax.planner import astar, differentiable_astar\n",
    "reload(data)\n",
    "reload(training)\n",
    "reload(differentiable_astar)\n",
    "reload(astar)\n",
    "import optax\n",
    "from flax.training.train_state import TrainState"
   ]
  },
  {
   "cell_type": "code",
   "execution_count": 14,
   "id": "2b2d1358-be2b-42ea-9e48-568cc83953ed",
   "metadata": {
    "tags": []
   },
   "outputs": [],
   "source": [
    "dataloader = data.MazeDataLoader(filename=\"../../planning-datasets/data/mpd/mazes_032_moore_c8.npz\", split=\"train\", batch_size=100)\n",
    "batch = dataloader.sample_batch(jax.random.PRNGKey(0))"
   ]
  },
  {
   "cell_type": "code",
   "execution_count": 15,
   "id": "d4d4b979-1047-4077-9e2b-968264844a4d",
   "metadata": {
    "tags": []
   },
   "outputs": [],
   "source": [
    "planner = astar.NeuralAstar(is_training=True, search_step_ratio=0.25)\n",
    "variables = planner.init(jax.random.PRNGKey(0), batch.map_design, batch.start_map, batch.goal_map)"
   ]
  },
  {
   "cell_type": "code",
   "execution_count": 17,
   "id": "3bdbf8da-e094-4012-b3f1-32fe66b8fffa",
   "metadata": {
    "tags": []
   },
   "outputs": [],
   "source": [
    "class TrainStateBN(TrainState):\n",
    "    batch_stats: dict\n",
    "\n",
    "state = TrainStateBN.create(apply_fn=planner.apply, params=variables[\"params\"], batch_stats=variables[\"batch_stats\"], tx=optax.rmsprop(learning_rate=0.001))\n"
   ]
  },
  {
   "cell_type": "code",
   "execution_count": null,
   "id": "97f81292-4675-43bc-981e-ee5985696c47",
   "metadata": {
    "tags": []
   },
   "outputs": [
    {
     "name": "stdout",
     "output_type": "stream",
     "text": [
      "CPU times: user 13.5 s, sys: 989 ms, total: 14.5 s\n",
      "Wall time: 7.12 s\n",
      "0 0.062265623\n",
      "CPU times: user 9.93 s, sys: 668 ms, total: 10.6 s\n",
      "Wall time: 3.17 s\n",
      "CPU times: user 10.1 s, sys: 654 ms, total: 10.7 s\n",
      "Wall time: 3.27 s\n"
     ]
    },
    {
     "ename": "KeyboardInterrupt",
     "evalue": "",
     "output_type": "error",
     "traceback": [
      "\u001b[0;31m---------------------------------------------------------------------------\u001b[0m",
      "\u001b[0;31mKeyboardInterrupt\u001b[0m                         Traceback (most recent call last)",
      "File \u001b[0;32m<timed exec>:1\u001b[0m\n",
      "File \u001b[0;32m~/programs/neural-astar-jax/.venv/lib/python3.9/site-packages/flax/core/frozen_dict.py:159\u001b[0m, in \u001b[0;36mFrozenDict.tree_unflatten\u001b[0;34m(cls, _, data)\u001b[0m\n\u001b[1;32m    152\u001b[0m \u001b[38;5;250m  \u001b[39m\u001b[38;5;124;03m\"\"\"Flattens this FrozenDict.\u001b[39;00m\n\u001b[1;32m    153\u001b[0m \n\u001b[1;32m    154\u001b[0m \u001b[38;5;124;03m  Returns:\u001b[39;00m\n\u001b[1;32m    155\u001b[0m \u001b[38;5;124;03m    A flattened version of this FrozenDict instance.\u001b[39;00m\n\u001b[1;32m    156\u001b[0m \u001b[38;5;124;03m  \"\"\"\u001b[39;00m\n\u001b[1;32m    157\u001b[0m   \u001b[38;5;28;01mreturn\u001b[39;00m (\u001b[38;5;28mself\u001b[39m\u001b[38;5;241m.\u001b[39m_dict,), ()\n\u001b[0;32m--> 159\u001b[0m \u001b[38;5;129m@classmethod\u001b[39m\n\u001b[1;32m    160\u001b[0m \u001b[38;5;28;01mdef\u001b[39;00m \u001b[38;5;21mtree_unflatten\u001b[39m(\u001b[38;5;28mcls\u001b[39m, _, data):\n\u001b[1;32m    161\u001b[0m   \u001b[38;5;66;03m# data is already deep copied due to tree map mechanism\u001b[39;00m\n\u001b[1;32m    162\u001b[0m   \u001b[38;5;66;03m# we can skip the deep copy in the constructor\u001b[39;00m\n\u001b[1;32m    163\u001b[0m   \u001b[38;5;28;01mreturn\u001b[39;00m \u001b[38;5;28mcls\u001b[39m(\u001b[38;5;241m*\u001b[39mdata, __unsafe_skip_copy__\u001b[38;5;241m=\u001b[39m\u001b[38;5;28;01mTrue\u001b[39;00m)\n",
      "\u001b[0;31mKeyboardInterrupt\u001b[0m: "
     ]
    }
   ],
   "source": [
    "key = jax.random.PRNGKey(0)\n",
    "for i in range(800):\n",
    "    key1, key = jax.random.split(key)\n",
    "    batch = dataloader.sample_batch(key1)\n",
    "    loss, state, outputs, updates = training.step(batch, state, True)\n",
    "    if i % 8 == 0:\n",
    "        print(i, loss)"
   ]
  },
  {
   "cell_type": "code",
   "execution_count": 12,
   "id": "ac8fd09f-2221-46cb-9891-147976915bc4",
   "metadata": {
    "tags": []
   },
   "outputs": [
    {
     "data": {
      "text/plain": [
       "<matplotlib.image.AxesImage at 0x7f6c641b1280>"
      ]
     },
     "execution_count": 12,
     "metadata": {},
     "output_type": "execute_result"
    },
    {
     "data": {
      "image/png": "[encoded data removed]",
      "text/plain": [
       "<Figure size 640x480 with 1 Axes>"
      ]
     },
     "metadata": {},
     "output_type": "display_data"
    }
   ],
   "source": [
    "plt.imshow(outputs.history[2])"
   ]
  },
  {
   "cell_type": "code",
   "execution_count": null,
   "id": "b34cd3c8-d04c-4109-a8e0-dc15fac25dcc",
   "metadata": {},
   "outputs": [],
   "source": []
  }
 ],
 "metadata": {
  "kernelspec": {
   "display_name": "Python 3 (ipykernel)",
   "language": "python",
   "name": "python3"
  },
  "language_info": {
   "codemirror_mode": {
    "name": "ipython",
    "version": 3
   },
   "file_extension": ".py",
   "mimetype": "text/x-python",
   "name": "python",
   "nbconvert_exporter": "python",
   "pygments_lexer": "ipython3",
   "version": "3.9.5"
  }
 },
 "nbformat": 4,
 "nbformat_minor": 5
}
