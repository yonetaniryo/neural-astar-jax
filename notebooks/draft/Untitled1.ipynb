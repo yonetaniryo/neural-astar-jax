{
 "cells": [
  {
   "cell_type": "code",
   "execution_count": 54,
   "id": "5f9de3d0-4c15-486d-83fb-ce1ea52f9eee",
   "metadata": {
    "tags": []
   },
   "outputs": [],
   "source": [
    "from neural_astar_jax.utils import data\n",
    "from neural_astar_jax.utils import training\n",
    "import matplotlib.pyplot as plt\n",
    "import jax\n",
    "from importlib import reload\n",
    "from neural_astar_jax.planner import astar, differentiable_astar\n",
    "reload(data)\n",
    "reload(training)\n",
    "reload(differentiable_astar)\n",
    "reload(astar)\n",
    "import optax\n",
    "from flax.training.train_state import TrainState"
   ]
  },
  {
   "cell_type": "code",
   "execution_count": 55,
   "id": "2b2d1358-be2b-42ea-9e48-568cc83953ed",
   "metadata": {
    "tags": []
   },
   "outputs": [],
   "source": [
    "dataloader = data.MazeDataLoader(filename=\"../../planning-datasets/data/mpd/mazes_032_moore_c8.npz\", split=\"train\", batch_size=100)\n",
    "batch = dataloader.sample_batch(jax.random.PRNGKey(0))"
   ]
  },
  {
   "cell_type": "code",
   "execution_count": 56,
   "id": "d4d4b979-1047-4077-9e2b-968264844a4d",
   "metadata": {
    "tags": []
   },
   "outputs": [],
   "source": [
    "planner = astar.NeuralAstar(is_training=True, search_step_ratio=0.05)\n",
    "variables = planner.init(jax.random.PRNGKey(0), batch.map_design, batch.start_map, batch.goal_map)"
   ]
  },
  {
   "cell_type": "code",
   "execution_count": 57,
   "id": "3bdbf8da-e094-4012-b3f1-32fe66b8fffa",
   "metadata": {
    "tags": []
   },
   "outputs": [],
   "source": [
    "class TrainStateBN(TrainState):\n",
    "    batch_stats: dict\n",
    "\n",
    "state = TrainStateBN.create(apply_fn=planner.apply, params=variables[\"params\"], batch_stats=variables[\"batch_stats\"], tx=optax.adam(learning_rate=0.001))\n"
   ]
  },
  {
   "cell_type": "code",
   "execution_count": 58,
   "id": "97f81292-4675-43bc-981e-ee5985696c47",
   "metadata": {
    "tags": []
   },
   "outputs": [
    {
     "name": "stdout",
     "output_type": "stream",
     "text": [
      "0 0.04392578\n",
      "8 0.04915039\n",
      "16 0.044902343\n",
      "24 0.046875\n",
      "32 0.046865232\n",
      "40 0.04628906\n",
      "48 0.047265623\n",
      "56 0.042265624\n",
      "64 0.044999998\n",
      "72 0.045048825\n",
      "80 0.047148436\n",
      "88 0.048642576\n",
      "96 0.045742188\n",
      "104 0.048916016\n",
      "112 0.044189453\n",
      "120 0.047734372\n",
      "128 0.04573242\n",
      "136 0.04564453\n",
      "144 0.04796875\n",
      "152 0.049804688\n"
     ]
    }
   ],
   "source": [
    "key = jax.random.PRNGKey(0)\n",
    "for i in range(160):\n",
    "    key1, key = jax.random.split(key)\n",
    "    batch = dataloader.sample_batch(key1)\n",
    "    loss, state, outputs, updates = training.step(batch, state, True)\n",
    "    if i % 8 == 0:\n",
    "        print(i, loss)"
   ]
  },
  {
   "cell_type": "code",
   "execution_count": 59,
   "id": "ac8fd09f-2221-46cb-9891-147976915bc4",
   "metadata": {
    "tags": []
   },
   "outputs": [
    {
     "data": {
      "text/plain": [
       "<matplotlib.image.AxesImage at 0x7fd622046520>"
      ]
     },
     "execution_count": 59,
     "metadata": {},
     "output_type": "execute_result"
    },
    {
     "data": {
      "image/png": "[encoded data removed]",
      "text/plain": [
       "<Figure size 640x480 with 1 Axes>"
      ]
     },
     "metadata": {},
     "output_type": "display_data"
    }
   ],
   "source": [
    "na = astar.NeuralAstar()\n",
    "outputs = na.apply({\"params\": state.params, \"batch_stats\": state.batch_stats}, batch.map_design, batch.start_map, batch.goal_map)\n",
    "plt.imshow(outputs.history[0])\n",
    "plt.imshow(outputs.path_map[0], alpha=.5)"
   ]
  },
  {
   "cell_type": "code",
   "execution_count": 60,
   "id": "b34cd3c8-d04c-4109-a8e0-dc15fac25dcc",
   "metadata": {},
   "outputs": [
    {
     "data": {
      "text/plain": [
       "<matplotlib.image.AxesImage at 0x7fd5d44fbf10>"
      ]
     },
     "execution_count": 60,
     "metadata": {},
     "output_type": "execute_result"
    },
    {
     "data": {
      "image/png": "[encoded data removed]",
      "text/plain": [
       "<Figure size 640x480 with 1 Axes>"
      ]
     },
     "metadata": {},
     "output_type": "display_data"
    }
   ],
   "source": [
    "va = astar.VanillaAstar()\n",
    "variables = va.init(jax.random.PRNGKey(0), batch.map_design, batch.start_map, batch.goal_map)\n",
    "outputs2 = va.apply(variables, batch.map_design, batch.start_map, batch.goal_map)\n",
    "plt.imshow(outputs2.history[0])\n",
    "plt.imshow(outputs2.path_map[0], alpha=.5)"
   ]
  },
  {
   "cell_type": "code",
   "execution_count": 61,
   "id": "b75e550f-33d1-47ac-b5a4-c53a64ad32a2",
   "metadata": {
    "tags": []
   },
   "outputs": [
    {
     "data": {
      "text/plain": [
       "DeviceArray(0.44862577, dtype=float32)"
      ]
     },
     "execution_count": 61,
     "metadata": {},
     "output_type": "execute_result"
    }
   ],
   "source": [
    "import jax.numpy as jnp\n",
    "jnp.maximum((outputs2.history.sum((1, 2)) - outputs.history.sum((1, 2))) / outputs2.history.sum((1, 2)), 0).mean()"
   ]
  },
  {
   "cell_type": "code",
   "execution_count": 62,
   "id": "e4c5c564-1418-4b23-ba52-0694c4fce601",
   "metadata": {
    "tags": []
   },
   "outputs": [
    {
     "data": {
      "text/plain": [
       "DeviceArray(0.61, dtype=float32)"
      ]
     },
     "execution_count": 62,
     "metadata": {},
     "output_type": "execute_result"
    }
   ],
   "source": [
    "(outputs.path_map.sum((1, 2)) == outputs2.path_map.sum((1, 2))).mean()"
   ]
  },
  {
   "cell_type": "code",
   "execution_count": 23,
   "id": "6b10dda1-815b-4834-91e8-bd2176ab2289",
   "metadata": {
    "tags": []
   },
   "outputs": [
    {
     "data": {
      "text/plain": [
       "Parameter containing:\n",
       "tensor([-0.0679, -0.1237, -0.0774,  0.1086,  0.1031, -0.1090,  0.2293,  0.2054,\n",
       "         0.1451, -0.2291,  0.1453, -0.1206, -0.1693, -0.0017, -0.1134, -0.1288,\n",
       "         0.1938,  0.0241,  0.1093, -0.1889,  0.1831, -0.1727, -0.1036, -0.2122,\n",
       "         0.1064, -0.1171, -0.1279,  0.1549, -0.0782, -0.0780,  0.0084,  0.0433],\n",
       "       requires_grad=True)"
      ]
     },
     "execution_count": 23,
     "metadata": {},
     "output_type": "execute_result"
    }
   ],
   "source": [
    "from neural_astar.planner import NeuralAstar\n",
    "na = NeuralAstar()\n",
    "list(na.parameters())[2]"
   ]
  },
  {
   "cell_type": "code",
   "execution_count": 39,
   "id": "d2341b49-501b-4ad3-af99-ee39a7918901",
   "metadata": {
    "tags": []
   },
   "outputs": [
    {
     "data": {
      "text/plain": [
       "Conv()"
      ]
     },
     "execution_count": 39,
     "metadata": {},
     "output_type": "execute_result"
    }
   ],
   "source": [
    "import flax.linen as nn\n",
    "nn.Conv(3, (3, 3), bias_init=nn.initializers.variance_scaling)"
   ]
  },
  {
   "cell_type": "code",
   "execution_count": 47,
   "id": "bfb071c8-6166-4f6a-b6b6-fe7decb3dd33",
   "metadata": {
    "tags": []
   },
   "outputs": [
    {
     "data": {
      "text/plain": [
       "<function jax._src.nn.initializers.variance_scaling.<locals>.init(key: jax._src.prng.PRNGKeyArray, shape: Sequence[Union[int, Any]], dtype: Any = <class 'jax.numpy.float64'>) -> Any>"
      ]
     },
     "execution_count": 47,
     "metadata": {},
     "output_type": "execute_result"
    }
   ],
   "source": []
  },
  {
   "cell_type": "code",
   "execution_count": null,
   "id": "0ed194be-0a70-4a74-a048-c74c16a49379",
   "metadata": {},
   "outputs": [],
   "source": []
  }
 ],
 "metadata": {
  "kernelspec": {
   "display_name": "Python 3 (ipykernel)",
   "language": "python",
   "name": "python3"
  },
  "language_info": {
   "codemirror_mode": {
    "name": "ipython",
    "version": 3
   },
   "file_extension": ".py",
   "mimetype": "text/x-python",
   "name": "python",
   "nbconvert_exporter": "python",
   "pygments_lexer": "ipython3",
   "version": "3.9.5"
  }
 },
 "nbformat": 4,
 "nbformat_minor": 5
}
