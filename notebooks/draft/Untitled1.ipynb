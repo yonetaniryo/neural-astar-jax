{
 "cells": [
  {
   "cell_type": "code",
   "execution_count": 18,
   "id": "5f9de3d0-4c15-486d-83fb-ce1ea52f9eee",
   "metadata": {
    "tags": []
   },
   "outputs": [],
   "source": [
    "from neural_astar_jax.utils import data\n",
    "from neural_astar_jax.utils import training\n",
    "import matplotlib.pyplot as plt\n",
    "import jax\n",
    "from importlib import reload\n",
    "from neural_astar_jax.planner import astar, differentiable_astar\n",
    "reload(data)\n",
    "reload(training)\n",
    "reload(differentiable_astar)\n",
    "reload(astar)\n",
    "import optax\n",
    "from flax.training.train_state import TrainState"
   ]
  },
  {
   "cell_type": "code",
   "execution_count": 2,
   "id": "2b2d1358-be2b-42ea-9e48-568cc83953ed",
   "metadata": {
    "tags": []
   },
   "outputs": [
    {
     "name": "stderr",
     "output_type": "stream",
     "text": [
      "WARNING:absl:No GPU/TPU found, falling back to CPU. (Set TF_CPP_MIN_LOG_LEVEL=0 and rerun for more info.)\n"
     ]
    }
   ],
   "source": [
    "dataloader = data.MazeDataLoader(filename=\"../../planning-datasets/data/mpd/bugtrap_forest_032_moore_c8.npz\", split=\"train\", batch_size=100)\n",
    "batch = dataloader.sample_batch(jax.random.PRNGKey(0))"
   ]
  },
  {
   "cell_type": "code",
   "execution_count": 8,
   "id": "d4d4b979-1047-4077-9e2b-968264844a4d",
   "metadata": {
    "tags": []
   },
   "outputs": [],
   "source": [
    "planner = astar.NeuralAstar(is_training=True, search_step_ratio=0.25)\n",
    "variables = planner.init(jax.random.PRNGKey(0), batch.map_design, batch.start_map, batch.goal_map)"
   ]
  },
  {
   "cell_type": "code",
   "execution_count": 9,
   "id": "3bdbf8da-e094-4012-b3f1-32fe66b8fffa",
   "metadata": {
    "tags": []
   },
   "outputs": [],
   "source": [
    "class TrainStateBN(TrainState):\n",
    "    batch_stats: dict\n",
    "\n",
    "state = TrainStateBN.create(apply_fn=planner.apply, params=variables[\"params\"], batch_stats=variables[\"batch_stats\"], tx=optax.rmsprop(learning_rate=0.001))\n"
   ]
  },
  {
   "cell_type": "code",
   "execution_count": null,
   "id": "97f81292-4675-43bc-981e-ee5985696c47",
   "metadata": {
    "tags": []
   },
   "outputs": [],
   "source": [
    "key = jax.random.PRNGKey(0)\n",
    "for i in range(32):\n",
    "    key1, key = jax.random.split(key)\n",
    "    batch = dataloader.sample_batch(key1)\n",
    "    %time loss, state, outputs, updates = training.step(batch, state, True)\n",
    "    print(loss)"
   ]
  },
  {
   "cell_type": "code",
   "execution_count": 12,
   "id": "ac8fd09f-2221-46cb-9891-147976915bc4",
   "metadata": {
    "tags": []
   },
   "outputs": [
    {
     "data": {
      "text/plain": [
       "<matplotlib.image.AxesImage at 0x7f472c506cd0>"
      ]
     },
     "execution_count": 12,
     "metadata": {},
     "output_type": "execute_result"
    },
    {
     "data": {
      "image/png": "[encoded data removed]",
      "text/plain": [
       "<Figure size 640x480 with 1 Axes>"
      ]
     },
     "metadata": {},
     "output_type": "display_data"
    }
   ],
   "source": [
    "plt.imshow(outputs.history[2])"
   ]
  },
  {
   "cell_type": "code",
   "execution_count": null,
   "id": "b34cd3c8-d04c-4109-a8e0-dc15fac25dcc",
   "metadata": {},
   "outputs": [],
   "source": []
  }
 ],
 "metadata": {
  "kernelspec": {
   "display_name": "Python 3 (ipykernel)",
   "language": "python",
   "name": "python3"
  },
  "language_info": {
   "codemirror_mode": {
    "name": "ipython",
    "version": 3
   },
   "file_extension": ".py",
   "mimetype": "text/x-python",
   "name": "python",
   "nbconvert_exporter": "python",
   "pygments_lexer": "ipython3",
   "version": "3.9.5"
  }
 },
 "nbformat": 4,
 "nbformat_minor": 5
}
