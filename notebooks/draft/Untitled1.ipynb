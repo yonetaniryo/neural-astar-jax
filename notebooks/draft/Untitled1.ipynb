{
 "cells": [
  {
   "cell_type": "code",
   "execution_count": 1,
   "id": "5f9de3d0-4c15-486d-83fb-ce1ea52f9eee",
   "metadata": {
    "tags": []
   },
   "outputs": [
    {
     "data": {
      "text/plain": [
       "<module 'neural_astar_jax.utils.data' from '/home/yonetani/programs/neural-astar-jax/src/neural_astar_jax/utils/data.py'>"
      ]
     },
     "execution_count": 1,
     "metadata": {},
     "output_type": "execute_result"
    }
   ],
   "source": [
    "from neural_astar_jax.utils import data\n",
    "import jax\n",
    "from importlib import reload\n",
    "reload(data)"
   ]
  },
  {
   "cell_type": "code",
   "execution_count": 2,
   "id": "2b2d1358-be2b-42ea-9e48-568cc83953ed",
   "metadata": {
    "tags": []
   },
   "outputs": [
    {
     "name": "stderr",
     "output_type": "stream",
     "text": [
      "WARNING:absl:No GPU/TPU found, falling back to CPU. (Set TF_CPP_MIN_LOG_LEVEL=0 and rerun for more info.)\n"
     ]
    },
    {
     "name": "stdout",
     "output_type": "stream",
     "text": [
      "27.6 ms ± 533 µs per loop (mean ± std. dev. of 7 runs, 1 loop each)\n"
     ]
    }
   ],
   "source": [
    "dataloader = data.MazeDataLoader(filename=\"../../planning-datasets/data/mpd/alternating_gaps_032_moore_c8.npz\", split=\"train\", batch_size=100)\n",
    "%timeit dataloader.sample_batch(jax.random.PRNGKey(0))"
   ]
  },
  {
   "cell_type": "code",
   "execution_count": 3,
   "id": "d4d4b979-1047-4077-9e2b-968264844a4d",
   "metadata": {
    "tags": []
   },
   "outputs": [
    {
     "name": "stderr",
     "output_type": "stream",
     "text": [
      "/home/yonetani/programs/neural-astar-jax/.venv/lib/python3.9/site-packages/tqdm/auto.py:22: TqdmWarning: IProgress not found. Please update jupyter and ipywidgets. See https://ipywidgets.readthedocs.io/en/stable/user_install.html\n",
      "  from .autonotebook import tqdm as notebook_tqdm\n"
     ]
    },
    {
     "name": "stdout",
     "output_type": "stream",
     "text": [
      "Number of Train Samples: 800\n",
      "\tSize: 32x32\n",
      "34.1 ms ± 154 µs per loop (mean ± std. dev. of 7 runs, 10 loops each)\n"
     ]
    }
   ],
   "source": [
    "from neural_astar.utils.data import create_dataloader\n",
    "from neural_astar.utils import data\n",
    "dataloader = create_dataloader(\"../../planning-datasets/data/mpd/alternating_gaps_032_moore_c8.npz\", \"train\", 100, shuffle=True)\n",
    "%timeit next(iter(dataloader))"
   ]
  },
  {
   "cell_type": "code",
   "execution_count": null,
   "id": "fa28e12d-4678-49f9-a120-051225e3614a",
   "metadata": {},
   "outputs": [],
   "source": []
  }
 ],
 "metadata": {
  "kernelspec": {
   "display_name": "Python 3 (ipykernel)",
   "language": "python",
   "name": "python3"
  },
  "language_info": {
   "codemirror_mode": {
    "name": "ipython",
    "version": 3
   },
   "file_extension": ".py",
   "mimetype": "text/x-python",
   "name": "python",
   "nbconvert_exporter": "python",
   "pygments_lexer": "ipython3",
   "version": "3.9.5"
  }
 },
 "nbformat": 4,
 "nbformat_minor": 5
}
