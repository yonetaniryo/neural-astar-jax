{
 "cells": [
  {
   "cell_type": "code",
   "execution_count": 1,
   "id": "5f9de3d0-4c15-486d-83fb-ce1ea52f9eee",
   "metadata": {
    "tags": []
   },
   "outputs": [],
   "source": [
    "from neural_astar_jax.utils import data\n",
    "from neural_astar_jax.utils import training\n",
    "import matplotlib.pyplot as plt\n",
    "import jax\n",
    "import jax.numpy as jnp\n",
    "from importlib import reload\n",
    "from neural_astar_jax.planner import astar, differentiable_astar\n",
    "reload(data)\n",
    "reload(training)\n",
    "reload(differentiable_astar)\n",
    "reload(astar)\n",
    "import optax\n",
    "from flax.training.train_state import TrainState"
   ]
  },
  {
   "cell_type": "code",
   "execution_count": 2,
   "id": "d4d4b979-1047-4077-9e2b-968264844a4d",
   "metadata": {
    "tags": []
   },
   "outputs": [
    {
     "name": "stderr",
     "output_type": "stream",
     "text": [
      "WARNING:absl:No GPU/TPU found, falling back to CPU. (Set TF_CPP_MIN_LOG_LEVEL=0 and rerun for more info.)\n"
     ]
    }
   ],
   "source": [
    "planner = astar.NeuralAstar(is_training=True, search_step_ratio=0.25)\n",
    "train_loader = data.MazeDataLoader(filename=\"../../planning-datasets/data/mpd/mazes_032_moore_c8.npz\", split=\"train\", batch_size=100)\n",
    "val_loader = data.MazeDataLoader(filename=\"../../planning-datasets/data/mpd/mazes_032_moore_c8.npz\", split=\"val\", batch_size=1)\n",
    "trainer = training.Trainer(planner=planner, train_loader=train_loader, val_loader=val_loader, val_every_n_steps=1)"
   ]
  },
  {
   "cell_type": "code",
   "execution_count": 4,
   "id": "ea72b84c-17b6-4a74-9c56-b435bbc74912",
   "metadata": {
    "tags": []
   },
   "outputs": [
    {
     "name": "stdout",
     "output_type": "stream",
     "text": [
      "step=00, train_loss=0.0623, val_loss=0.1113, p_opt=0.5700, p_exp=0.2878, h_mean=0.3825\n",
      "best model updated (h_mean=0.3825 > best_h_mean=-inf)\n",
      "step=01, train_loss=0.0836, val_loss=0.1106, p_opt=0.5900, p_exp=0.2892, h_mean=0.3882\n",
      "best model updated (h_mean=0.3882 > best_h_mean=0.3825)\n",
      "step=02, train_loss=0.0666, val_loss=0.1106, p_opt=0.5800, p_exp=0.2900, h_mean=0.3867\n",
      "step=03, train_loss=0.0664, val_loss=0.1092, p_opt=0.6000, p_exp=0.2976, h_mean=0.3978\n",
      "best model updated (h_mean=0.3978 > best_h_mean=0.3882)\n",
      "step=04, train_loss=0.0739, val_loss=0.1057, p_opt=0.6000, p_exp=0.3202, h_mean=0.4175\n",
      "best model updated (h_mean=0.4175 > best_h_mean=0.3978)\n",
      "step=05, train_loss=0.0655, val_loss=0.1052, p_opt=0.5600, p_exp=0.3253, h_mean=0.4115\n",
      "step=06, train_loss=0.0759, val_loss=0.1048, p_opt=0.5400, p_exp=0.3259, h_mean=0.4065\n",
      "step=07, train_loss=0.0641, val_loss=0.1042, p_opt=0.5500, p_exp=0.3280, h_mean=0.4109\n",
      "step=08, train_loss=0.0750, val_loss=0.1019, p_opt=0.5900, p_exp=0.3388, h_mean=0.4304\n",
      "best model updated (h_mean=0.4304 > best_h_mean=0.4175)\n",
      "step=09, train_loss=0.0616, val_loss=0.1004, p_opt=0.5900, p_exp=0.3472, h_mean=0.4371\n",
      "best model updated (h_mean=0.4371 > best_h_mean=0.4304)\n"
     ]
    }
   ],
   "source": [
    "state = trainer.fit(jax.random.PRNGKey(0), max_steps=10)"
   ]
  },
  {
   "cell_type": "code",
   "execution_count": null,
   "id": "43d24268-a96b-4508-9973-fbfdfe2e996b",
   "metadata": {},
   "outputs": [],
   "source": []
  }
 ],
 "metadata": {
  "kernelspec": {
   "display_name": "Python 3 (ipykernel)",
   "language": "python",
   "name": "python3"
  },
  "language_info": {
   "codemirror_mode": {
    "name": "ipython",
    "version": 3
   },
   "file_extension": ".py",
   "mimetype": "text/x-python",
   "name": "python",
   "nbconvert_exporter": "python",
   "pygments_lexer": "ipython3",
   "version": "3.9.5"
  }
 },
 "nbformat": 4,
 "nbformat_minor": 5
}
