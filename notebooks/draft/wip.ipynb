{
 "cells": [
  {
   "cell_type": "code",
   "execution_count": null,
   "id": "5f9de3d0-4c15-486d-83fb-ce1ea52f9eee",
   "metadata": {
    "tags": []
   },
   "outputs": [],
   "source": [
    "from neural_astar_jax.planner import astar, differentiable_astar\n",
    "from neural_astar_jax.utils import data\n",
    "from neural_astar_jax.utils import training\n",
    "from importlib import reload\n",
    "reload(data)\n",
    "reload(training)\n",
    "reload(differentiable_astar)\n",
    "reload(astar)\n",
    "\n",
    "\n",
    "import matplotlib.pyplot as plt\n",
    "import jax\n",
    "import jax.numpy as jnp\n"
   ]
  },
  {
   "cell_type": "code",
   "execution_count": null,
   "id": "d4d4b979-1047-4077-9e2b-968264844a4d",
   "metadata": {
    "tags": []
   },
   "outputs": [],
   "source": [
    "planner = astar.NeuralAstar(is_training=True, search_step_ratio=0.25)\n",
    "train_loader = data.MazeDataLoader(filename=\"../../planning-datasets/data/mpd/mazes_032_moore_c8.npz\", split=\"train\", batch_size=100)\n",
    "val_loader = data.MazeDataLoader(filename=\"../../planning-datasets/data/mpd/mazes_032_moore_c8.npz\", split=\"val\", batch_size=1)\n",
    "trainer = training.Trainer(planner=planner, train_loader=train_loader, val_loader=val_loader, val_every_n_steps=1)"
   ]
  },
  {
   "cell_type": "code",
   "execution_count": null,
   "id": "ea72b84c-17b6-4a74-9c56-b435bbc74912",
   "metadata": {
    "tags": []
   },
   "outputs": [],
   "source": [
    "state = trainer.fit(jax.random.PRNGKey(0), max_steps=100)"
   ]
  },
  {
   "cell_type": "code",
   "execution_count": null,
   "id": "43d24268-a96b-4508-9973-fbfdfe2e996b",
   "metadata": {
    "tags": []
   },
   "outputs": [],
   "source": [
    "planner.is_training = False\n",
    "planner.search_step_ratio = 1.0\n",
    "planner.reset_differentiable_astar()\n",
    "\n",
    "outputs = planner.apply({\"params\": state.params, \"batch_stats\": state.batch_stats}, trainer.val_batch.map_design, trainer.val_batch.start_map, trainer.val_batch.goal_map)"
   ]
  },
  {
   "cell_type": "code",
   "execution_count": null,
   "id": "f11479e8-3b11-49b3-a599-9a727caccbaa",
   "metadata": {
    "tags": []
   },
   "outputs": [],
   "source": [
    "plt.imshow(outputs.history[0])"
   ]
  }
 ],
 "metadata": {
  "kernelspec": {
   "display_name": "Python 3 (ipykernel)",
   "language": "python",
   "name": "python3"
  },
  "language_info": {
   "codemirror_mode": {
    "name": "ipython",
    "version": 3
   },
   "file_extension": ".py",
   "mimetype": "text/x-python",
   "name": "python",
   "nbconvert_exporter": "python",
   "pygments_lexer": "ipython3",
   "version": "3.9.5"
  }
 },
 "nbformat": 4,
 "nbformat_minor": 5
}
