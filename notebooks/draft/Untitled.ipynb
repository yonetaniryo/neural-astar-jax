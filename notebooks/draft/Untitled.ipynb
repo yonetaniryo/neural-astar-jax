{
 "cells": [
  {
   "cell_type": "code",
   "execution_count": 12,
   "id": "b24c4570-42ae-4982-be23-8a5be1fbc819",
   "metadata": {
    "tags": []
   },
   "outputs": [],
   "source": [
    "from neural_astar_jax.planner import differentiable_astar\n",
    "from importlib import reload\n",
    "import jax.numpy as jnp\n",
    "import matplotlib.pyplot as plt\n",
    "reload(differentiable_astar)\n",
    "from chex import Array\n",
    "from typing import NamedTuple\n",
    "\n",
    "from functools import partial\n",
    "import jax\n"
   ]
  },
  {
   "cell_type": "code",
   "execution_count": 13,
   "id": "b6e41a38-4f04-44e4-818c-5ac5237866e9",
   "metadata": {
    "tags": []
   },
   "outputs": [
    {
     "ename": "ConcretizationTypeError",
     "evalue": "Abstract tracer value encountered where concrete value is expected: Traced<ShapedArray(bool[])>with<DynamicJaxprTrace(level=1/1)>\nThe problem arose with the `bool` function. \nThe error occurred while tracing the function body at /home/yonetani/programs/neural-astar-jax/src/neural_astar_jax/planner/differentiable_astar.py:128 for while_loop. This concrete value was not available in Python because it depends on the values of the argument 'carry'.\n\nSee https://jax.readthedocs.io/en/latest/errors.html#jax.errors.ConcretizationTypeError",
     "output_type": "error",
     "traceback": [
      "\u001b[0;31m---------------------------------------------------------------------------\u001b[0m",
      "\u001b[0;31mConcretizationTypeError\u001b[0m                   Traceback (most recent call last)",
      "Cell \u001b[0;32mIn[13], line 8\u001b[0m\n\u001b[1;32m      5\u001b[0m cost_map \u001b[38;5;241m=\u001b[39m obstacles_map\n\u001b[1;32m      7\u001b[0m da \u001b[38;5;241m=\u001b[39m differentiable_astar\u001b[38;5;241m.\u001b[39mDifferentiableAstar(Tmax\u001b[38;5;241m=\u001b[39m\u001b[38;5;241m1\u001b[39m)\n\u001b[0;32m----> 8\u001b[0m \u001b[43mget_ipython\u001b[49m\u001b[43m(\u001b[49m\u001b[43m)\u001b[49m\u001b[38;5;241;43m.\u001b[39;49m\u001b[43mrun_line_magic\u001b[49m\u001b[43m(\u001b[49m\u001b[38;5;124;43m'\u001b[39;49m\u001b[38;5;124;43mtimeit\u001b[39;49m\u001b[38;5;124;43m'\u001b[39;49m\u001b[43m,\u001b[49m\u001b[43m \u001b[49m\u001b[38;5;124;43m'\u001b[39;49m\u001b[38;5;124;43mda(cost_map, start_map, goal_map, obstacles_map)\u001b[39;49m\u001b[38;5;124;43m'\u001b[39;49m\u001b[43m)\u001b[49m\n",
      "File \u001b[0;32m~/programs/neural-astar-jax/.venv/lib/python3.9/site-packages/IPython/core/interactiveshell.py:2369\u001b[0m, in \u001b[0;36mInteractiveShell.run_line_magic\u001b[0;34m(self, magic_name, line, _stack_depth)\u001b[0m\n\u001b[1;32m   2367\u001b[0m     kwargs[\u001b[38;5;124m'\u001b[39m\u001b[38;5;124mlocal_ns\u001b[39m\u001b[38;5;124m'\u001b[39m] \u001b[38;5;241m=\u001b[39m \u001b[38;5;28mself\u001b[39m\u001b[38;5;241m.\u001b[39mget_local_scope(stack_depth)\n\u001b[1;32m   2368\u001b[0m \u001b[38;5;28;01mwith\u001b[39;00m \u001b[38;5;28mself\u001b[39m\u001b[38;5;241m.\u001b[39mbuiltin_trap:\n\u001b[0;32m-> 2369\u001b[0m     result \u001b[38;5;241m=\u001b[39m \u001b[43mfn\u001b[49m\u001b[43m(\u001b[49m\u001b[38;5;241;43m*\u001b[39;49m\u001b[43margs\u001b[49m\u001b[43m,\u001b[49m\u001b[43m \u001b[49m\u001b[38;5;241;43m*\u001b[39;49m\u001b[38;5;241;43m*\u001b[39;49m\u001b[43mkwargs\u001b[49m\u001b[43m)\u001b[49m\n\u001b[1;32m   2371\u001b[0m \u001b[38;5;66;03m# The code below prevents the output from being displayed\u001b[39;00m\n\u001b[1;32m   2372\u001b[0m \u001b[38;5;66;03m# when using magics with decodator @output_can_be_silenced\u001b[39;00m\n\u001b[1;32m   2373\u001b[0m \u001b[38;5;66;03m# when the last Python token in the expression is a ';'.\u001b[39;00m\n\u001b[1;32m   2374\u001b[0m \u001b[38;5;28;01mif\u001b[39;00m \u001b[38;5;28mgetattr\u001b[39m(fn, magic\u001b[38;5;241m.\u001b[39mMAGIC_OUTPUT_CAN_BE_SILENCED, \u001b[38;5;28;01mFalse\u001b[39;00m):\n",
      "File \u001b[0;32m~/programs/neural-astar-jax/.venv/lib/python3.9/site-packages/IPython/core/magics/execution.py:1163\u001b[0m, in \u001b[0;36mExecutionMagics.timeit\u001b[0;34m(self, line, cell, local_ns)\u001b[0m\n\u001b[1;32m   1161\u001b[0m \u001b[38;5;28;01mfor\u001b[39;00m index \u001b[38;5;129;01min\u001b[39;00m \u001b[38;5;28mrange\u001b[39m(\u001b[38;5;241m0\u001b[39m, \u001b[38;5;241m10\u001b[39m):\n\u001b[1;32m   1162\u001b[0m     number \u001b[38;5;241m=\u001b[39m \u001b[38;5;241m10\u001b[39m \u001b[38;5;241m*\u001b[39m\u001b[38;5;241m*\u001b[39m index\n\u001b[0;32m-> 1163\u001b[0m     time_number \u001b[38;5;241m=\u001b[39m \u001b[43mtimer\u001b[49m\u001b[38;5;241;43m.\u001b[39;49m\u001b[43mtimeit\u001b[49m\u001b[43m(\u001b[49m\u001b[43mnumber\u001b[49m\u001b[43m)\u001b[49m\n\u001b[1;32m   1164\u001b[0m     \u001b[38;5;28;01mif\u001b[39;00m time_number \u001b[38;5;241m>\u001b[39m\u001b[38;5;241m=\u001b[39m \u001b[38;5;241m0.2\u001b[39m:\n\u001b[1;32m   1165\u001b[0m         \u001b[38;5;28;01mbreak\u001b[39;00m\n",
      "File \u001b[0;32m~/programs/neural-astar-jax/.venv/lib/python3.9/site-packages/IPython/core/magics/execution.py:157\u001b[0m, in \u001b[0;36mTimer.timeit\u001b[0;34m(self, number)\u001b[0m\n\u001b[1;32m    155\u001b[0m gc\u001b[38;5;241m.\u001b[39mdisable()\n\u001b[1;32m    156\u001b[0m \u001b[38;5;28;01mtry\u001b[39;00m:\n\u001b[0;32m--> 157\u001b[0m     timing \u001b[38;5;241m=\u001b[39m \u001b[38;5;28;43mself\u001b[39;49m\u001b[38;5;241;43m.\u001b[39;49m\u001b[43minner\u001b[49m\u001b[43m(\u001b[49m\u001b[43mit\u001b[49m\u001b[43m,\u001b[49m\u001b[43m \u001b[49m\u001b[38;5;28;43mself\u001b[39;49m\u001b[38;5;241;43m.\u001b[39;49m\u001b[43mtimer\u001b[49m\u001b[43m)\u001b[49m\n\u001b[1;32m    158\u001b[0m \u001b[38;5;28;01mfinally\u001b[39;00m:\n\u001b[1;32m    159\u001b[0m     \u001b[38;5;28;01mif\u001b[39;00m gcold:\n",
      "File \u001b[0;32m<magic-timeit>:1\u001b[0m, in \u001b[0;36minner\u001b[0;34m(_it, _timer)\u001b[0m\n",
      "File \u001b[0;32m~/programs/neural-astar-jax/src/neural_astar_jax/planner/differentiable_astar.py:97\u001b[0m, in \u001b[0;36mDifferentiableAstar.__call__\u001b[0;34m(self, cost_map, start_map, goal_map, obstacles_map)\u001b[0m\n\u001b[1;32m     94\u001b[0m \u001b[38;5;28;01mdef\u001b[39;00m \u001b[38;5;21m__call__\u001b[39m(\n\u001b[1;32m     95\u001b[0m     \u001b[38;5;28mself\u001b[39m, cost_map: Array, start_map: Array, goal_map: Array, obstacles_map: Array\n\u001b[1;32m     96\u001b[0m ) \u001b[38;5;241m-\u001b[39m\u001b[38;5;241m>\u001b[39m AstarOutput:\n\u001b[0;32m---> 97\u001b[0m     \u001b[38;5;28;01mreturn\u001b[39;00m \u001b[38;5;28;43mself\u001b[39;49m\u001b[38;5;241;43m.\u001b[39;49m\u001b[43mforward\u001b[49m\u001b[43m(\u001b[49m\u001b[43mcost_map\u001b[49m\u001b[43m,\u001b[49m\u001b[43m \u001b[49m\u001b[43mstart_map\u001b[49m\u001b[43m,\u001b[49m\u001b[43m \u001b[49m\u001b[43mgoal_map\u001b[49m\u001b[43m,\u001b[49m\u001b[43m \u001b[49m\u001b[43mobstacles_map\u001b[49m\u001b[43m)\u001b[49m\n",
      "    \u001b[0;31m[... skipping hidden 14 frame]\u001b[0m\n",
      "File \u001b[0;32m~/programs/neural-astar-jax/src/neural_astar_jax/planner/differentiable_astar.py:163\u001b[0m, in \u001b[0;36mDifferentiableAstar.build_forward.<locals>.forward\u001b[0;34m(cost_map, start_map, goal_map, obstacles_map)\u001b[0m\n\u001b[1;32m    149\u001b[0m     parents \u001b[38;5;241m=\u001b[39m idx \u001b[38;5;241m*\u001b[39m neighbor_map\u001b[38;5;241m.\u001b[39mflatten() \u001b[38;5;241m+\u001b[39m carry\u001b[38;5;241m.\u001b[39mparents \u001b[38;5;241m*\u001b[39m (\n\u001b[1;32m    150\u001b[0m         \u001b[38;5;241m1\u001b[39m \u001b[38;5;241m-\u001b[39m neighbor_map\u001b[38;5;241m.\u001b[39mflatten()\n\u001b[1;32m    151\u001b[0m     )\n\u001b[1;32m    153\u001b[0m     \u001b[38;5;28;01mreturn\u001b[39;00m Carry(\n\u001b[1;32m    154\u001b[0m         g\u001b[38;5;241m=\u001b[39mg,\n\u001b[1;32m    155\u001b[0m         idx_map\u001b[38;5;241m=\u001b[39midx_map,\n\u001b[0;32m   (...)\u001b[0m\n\u001b[1;32m    160\u001b[0m         solved\u001b[38;5;241m=\u001b[39m\u001b[38;5;129;01mnot\u001b[39;00m cond(carry),\n\u001b[1;32m    161\u001b[0m     )\n\u001b[0;32m--> 163\u001b[0m carry \u001b[38;5;241m=\u001b[39m \u001b[43mjax\u001b[49m\u001b[38;5;241;43m.\u001b[39;49m\u001b[43mlax\u001b[49m\u001b[38;5;241;43m.\u001b[39;49m\u001b[43mwhile_loop\u001b[49m\u001b[43m(\u001b[49m\n\u001b[1;32m    164\u001b[0m \u001b[43m    \u001b[49m\u001b[43mcond\u001b[49m\u001b[43m,\u001b[49m\n\u001b[1;32m    165\u001b[0m \u001b[43m    \u001b[49m\u001b[43mbody\u001b[49m\u001b[43m,\u001b[49m\n\u001b[1;32m    166\u001b[0m \u001b[43m    \u001b[49m\u001b[43mCarry\u001b[49m\u001b[43m(\u001b[49m\n\u001b[1;32m    167\u001b[0m \u001b[43m        \u001b[49m\u001b[43mg\u001b[49m\u001b[38;5;241;43m=\u001b[39;49m\u001b[43mg\u001b[49m\u001b[43m,\u001b[49m\n\u001b[1;32m    168\u001b[0m \u001b[43m        \u001b[49m\u001b[43midx_map\u001b[49m\u001b[38;5;241;43m=\u001b[39;49m\u001b[43mstart_map\u001b[49m\u001b[43m,\u001b[49m\n\u001b[1;32m    169\u001b[0m \u001b[43m        \u001b[49m\u001b[43mparents\u001b[49m\u001b[38;5;241;43m=\u001b[39;49m\u001b[43mparents\u001b[49m\u001b[43m,\u001b[49m\n\u001b[1;32m    170\u001b[0m \u001b[43m        \u001b[49m\u001b[43mopen_map\u001b[49m\u001b[38;5;241;43m=\u001b[39;49m\u001b[43mopen_map\u001b[49m\u001b[43m,\u001b[49m\n\u001b[1;32m    171\u001b[0m \u001b[43m        \u001b[49m\u001b[43mhistory\u001b[49m\u001b[38;5;241;43m=\u001b[39;49m\u001b[43mhistory\u001b[49m\u001b[43m,\u001b[49m\n\u001b[1;32m    172\u001b[0m \u001b[43m        \u001b[49m\u001b[43mt\u001b[49m\u001b[38;5;241;43m=\u001b[39;49m\u001b[38;5;241;43m0\u001b[39;49m\u001b[43m,\u001b[49m\n\u001b[1;32m    173\u001b[0m \u001b[43m        \u001b[49m\u001b[43msolved\u001b[49m\u001b[38;5;241;43m=\u001b[39;49m\u001b[38;5;28;43;01mFalse\u001b[39;49;00m\u001b[43m,\u001b[49m\n\u001b[1;32m    174\u001b[0m \u001b[43m    \u001b[49m\u001b[43m)\u001b[49m\u001b[43m,\u001b[49m\n\u001b[1;32m    175\u001b[0m \u001b[43m\u001b[49m\u001b[43m)\u001b[49m\n\u001b[1;32m    176\u001b[0m path_map \u001b[38;5;241m=\u001b[39m backtrack(carry\u001b[38;5;241m.\u001b[39mparents, start_map, goal_map, carry\u001b[38;5;241m.\u001b[39msolved)\n\u001b[1;32m    178\u001b[0m \u001b[38;5;28;01mreturn\u001b[39;00m AstarOutput(path_map\u001b[38;5;241m=\u001b[39mpath_map, history\u001b[38;5;241m=\u001b[39mcarry\u001b[38;5;241m.\u001b[39mhistory)\n",
      "    \u001b[0;31m[... skipping hidden 11 frame]\u001b[0m\n",
      "File \u001b[0;32m~/programs/neural-astar-jax/src/neural_astar_jax/planner/differentiable_astar.py:160\u001b[0m, in \u001b[0;36mDifferentiableAstar.build_forward.<locals>.forward.<locals>.body\u001b[0;34m(carry)\u001b[0m\n\u001b[1;32m    146\u001b[0m open_map \u001b[38;5;241m=\u001b[39m jax\u001b[38;5;241m.\u001b[39mlax\u001b[38;5;241m.\u001b[39mstop_gradient(\n\u001b[1;32m    147\u001b[0m     jnp\u001b[38;5;241m.\u001b[39mclip(open_map \u001b[38;5;241m+\u001b[39m neighbor_map, a_max\u001b[38;5;241m=\u001b[39m\u001b[38;5;241m1\u001b[39m)\n\u001b[1;32m    148\u001b[0m )\n\u001b[1;32m    149\u001b[0m parents \u001b[38;5;241m=\u001b[39m idx \u001b[38;5;241m*\u001b[39m neighbor_map\u001b[38;5;241m.\u001b[39mflatten() \u001b[38;5;241m+\u001b[39m carry\u001b[38;5;241m.\u001b[39mparents \u001b[38;5;241m*\u001b[39m (\n\u001b[1;32m    150\u001b[0m     \u001b[38;5;241m1\u001b[39m \u001b[38;5;241m-\u001b[39m neighbor_map\u001b[38;5;241m.\u001b[39mflatten()\n\u001b[1;32m    151\u001b[0m )\n\u001b[1;32m    153\u001b[0m \u001b[38;5;28;01mreturn\u001b[39;00m Carry(\n\u001b[1;32m    154\u001b[0m     g\u001b[38;5;241m=\u001b[39mg,\n\u001b[1;32m    155\u001b[0m     idx_map\u001b[38;5;241m=\u001b[39midx_map,\n\u001b[1;32m    156\u001b[0m     parents\u001b[38;5;241m=\u001b[39mparents,\n\u001b[1;32m    157\u001b[0m     open_map\u001b[38;5;241m=\u001b[39mopen_map,\n\u001b[1;32m    158\u001b[0m     history\u001b[38;5;241m=\u001b[39mhistory,\n\u001b[1;32m    159\u001b[0m     t\u001b[38;5;241m=\u001b[39mcarry\u001b[38;5;241m.\u001b[39mt \u001b[38;5;241m+\u001b[39m \u001b[38;5;241m1\u001b[39m,\n\u001b[0;32m--> 160\u001b[0m     solved\u001b[38;5;241m=\u001b[39m\u001b[38;5;129;43;01mnot\u001b[39;49;00m\u001b[43m \u001b[49m\u001b[43mcond\u001b[49m\u001b[43m(\u001b[49m\u001b[43mcarry\u001b[49m\u001b[43m)\u001b[49m,\n\u001b[1;32m    161\u001b[0m )\n",
      "    \u001b[0;31m[... skipping hidden 1 frame]\u001b[0m\n",
      "File \u001b[0;32m~/programs/neural-astar-jax/.venv/lib/python3.9/site-packages/jax/core.py:1174\u001b[0m, in \u001b[0;36mconcretization_function_error.<locals>.error\u001b[0;34m(self, arg)\u001b[0m\n\u001b[1;32m   1173\u001b[0m \u001b[38;5;28;01mdef\u001b[39;00m \u001b[38;5;21merror\u001b[39m(\u001b[38;5;28mself\u001b[39m, arg):\n\u001b[0;32m-> 1174\u001b[0m   \u001b[38;5;28;01mraise\u001b[39;00m ConcretizationTypeError(arg, fname_context)\n",
      "\u001b[0;31mConcretizationTypeError\u001b[0m: Abstract tracer value encountered where concrete value is expected: Traced<ShapedArray(bool[])>with<DynamicJaxprTrace(level=1/1)>\nThe problem arose with the `bool` function. \nThe error occurred while tracing the function body at /home/yonetani/programs/neural-astar-jax/src/neural_astar_jax/planner/differentiable_astar.py:128 for while_loop. This concrete value was not available in Python because it depends on the values of the argument 'carry'.\n\nSee https://jax.readthedocs.io/en/latest/errors.html#jax.errors.ConcretizationTypeError"
     ]
    }
   ],
   "source": [
    "obstacles_map = jnp.ones((64, 64))\n",
    "obstacles_map = obstacles_map.at[10:20, 10:20].set(0).at[30:40, 30:40].set(0).at[10:20, 30:40].set(0).at[30:40, 10:20].set(0)\n",
    "start_map = jnp.zeros((64, 64)).at[1, 1].set(1)\n",
    "goal_map = jnp.zeros((64, 64)).at[62, 62].set(1)\n",
    "cost_map = obstacles_map\n",
    "\n",
    "da = differentiable_astar.DifferentiableAstar(Tmax=1)\n",
    "%timeit da(cost_map, start_map, goal_map, obstacles_map)"
   ]
  },
  {
   "cell_type": "code",
   "execution_count": 11,
   "id": "a4979470-6a38-4dfc-b427-17e855770ca0",
   "metadata": {
    "tags": []
   },
   "outputs": [
    {
     "data": {
      "text/plain": [
       "<matplotlib.image.AxesImage at 0x7f9eac2e9b20>"
      ]
     },
     "execution_count": 11,
     "metadata": {},
     "output_type": "execute_result"
    },
    {
     "data": {
      "image/png": "[encoded data removed]",
      "text/plain": [
       "<Figure size 640x480 with 1 Axes>"
      ]
     },
     "metadata": {},
     "output_type": "display_data"
    }
   ],
   "source": [
    "output = da(cost_map, start_map, goal_map, obstacles_map)\n",
    "plt.imshow(output.path_map)"
   ]
  },
  {
   "cell_type": "code",
   "execution_count": 17,
   "id": "08fe6d4c-a326-4a24-abcb-ff13ccb52ee9",
   "metadata": {
    "tags": []
   },
   "outputs": [
    {
     "name": "stdout",
     "output_type": "stream",
     "text": [
      "75.2 ms ± 1.91 ms per loop (mean ± std. dev. of 7 runs, 10 loops each)\n"
     ]
    }
   ],
   "source": [
    "from neural_astar.planner import VanillaAstar\n",
    "import torch\n",
    "\n",
    "va = VanillaAstar()\n",
    "\n",
    "obstacles_map_t = torch.tensor(obstacles_map.to_py()).unsqueeze(0).unsqueeze(0)\n",
    "start_map_t = torch.tensor(start_map.to_py()).unsqueeze(0).unsqueeze(0)\n",
    "goal_map_t = torch.tensor(goal_map.to_py()).unsqueeze(0).unsqueeze(0)\n",
    "cost_map_t = torch.tensor(cost_map.to_py()).unsqueeze(0).unsqueeze(0)\n",
    "\n",
    "%timeit va.forward(obstacles_map_t, start_map_t, goal_map_t)"
   ]
  },
  {
   "cell_type": "code",
   "execution_count": 19,
   "id": "1d60273a-4fe1-47b9-990a-f72bc590d8c9",
   "metadata": {
    "tags": []
   },
   "outputs": [
    {
     "name": "stdout",
     "output_type": "stream",
     "text": [
      "The line_profiler extension is already loaded. To reload it, use:\n",
      "  %reload_ext line_profiler\n"
     ]
    },
    {
     "data": {
      "text/plain": [
       "Timer unit: 1e-09 s\n",
       "\n",
       "Total time: 0.120886 s\n",
       "File: /home/yonetani/programs/neural-astar-jax/src/neural_astar_jax/planner/differentiable_astar.py\n",
       "Function: __call__ at line 80\n",
       "\n",
       "Line #      Hits         Time  Per Hit   % Time  Line Contents\n",
       "==============================================================\n",
       "    80                                               def __call__(\n",
       "    81                                                   self, cost_map: Array, start_map: Array, goal_map: Array, obstacles_map: Array\n",
       "    82                                               ) -> AstarOutput:\n",
       "    83         1    4282524.0 4282524.0      3.5          carry = self.forward(cost_map, start_map, goal_map, obstacles_map)\n",
       "    84         1  116576510.0 116576510.0     96.4          path_map = backtrack(goal_map, carry.parents, carry.t)\n",
       "    85                                           \n",
       "    86         1      26829.0  26829.0      0.0          return AstarOutput(path_map=path_map, history=carry.history)"
      ]
     },
     "metadata": {},
     "output_type": "display_data"
    }
   ],
   "source": [
    "%load_ext line_profiler\n",
    "\n",
    "%lprun -f da.__call__ da(cost_map, start_map, goal_map, obstacles_map)"
   ]
  },
  {
   "cell_type": "code",
   "execution_count": null,
   "id": "9ac8c72e-6c17-4a2c-afa5-13e246c13d78",
   "metadata": {},
   "outputs": [],
   "source": []
  }
 ],
 "metadata": {
  "kernelspec": {
   "display_name": "Python 3 (ipykernel)",
   "language": "python",
   "name": "python3"
  },
  "language_info": {
   "codemirror_mode": {
    "name": "ipython",
    "version": 3
   },
   "file_extension": ".py",
   "mimetype": "text/x-python",
   "name": "python",
   "nbconvert_exporter": "python",
   "pygments_lexer": "ipython3",
   "version": "3.9.5"
  }
 },
 "nbformat": 4,
 "nbformat_minor": 5
}
