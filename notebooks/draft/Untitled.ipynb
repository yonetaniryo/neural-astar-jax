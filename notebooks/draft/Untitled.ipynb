{
 "cells": [
  {
   "cell_type": "code",
   "execution_count": 120,
   "id": "b24c4570-42ae-4982-be23-8a5be1fbc819",
   "metadata": {
    "tags": []
   },
   "outputs": [],
   "source": [
    "from neural_astar_jax.planner import differentiable_astar, astar\n",
    "from importlib import reload\n",
    "import jax.numpy as jnp\n",
    "import matplotlib.pyplot as plt\n",
    "reload(differentiable_astar)\n",
    "from chex import Array\n",
    "from typing import NamedTuple\n",
    "\n",
    "from functools import partial\n",
    "import jax\n"
   ]
  },
  {
   "cell_type": "code",
   "execution_count": 117,
   "id": "164c2f55-8a03-4e3a-a81b-902424e327c0",
   "metadata": {
    "tags": []
   },
   "outputs": [],
   "source": [
    "map_designs = jnp.ones((1, 64, 64, 1))\n",
    "map_designs = map_designs.at[:, 10:20, 10:20].set(0).at[:, 30:40, 30:40].set(0).at[:, 10:20, 30:40].set(0).at[:, 30:40, 10:20].set(0)\n",
    "start_maps = jnp.zeros((1, 64, 64, 1)).at[:, 1, 1].set(1)\n",
    "goal_maps = jnp.zeros((1, 64, 64, 1)).at[:, 62, 62].set(1)"
   ]
  },
  {
   "cell_type": "code",
   "execution_count": 122,
   "id": "20d805f2-4d21-4dc6-aed5-4a69930f4de5",
   "metadata": {
    "tags": []
   },
   "outputs": [
    {
     "name": "stdout",
     "output_type": "stream",
     "text": [
      "28.7 ms ± 1.08 ms per loop (mean ± std. dev. of 7 runs, 1 loop each)\n"
     ]
    }
   ],
   "source": [
    "model = astar.NeuralAstar()\n",
    "variables = model.init(jax.random.PRNGKey(0), jnp.ones((1, 64, 64, 1)), jnp.ones((1, 64, 64, 1)), jnp.ones((1, 64, 64, 1)))\n",
    "model_apply = jax.jit(model.apply)\n",
    "%timeit model_apply(variables, map_designs, start_maps, goal_maps)"
   ]
  },
  {
   "cell_type": "code",
   "execution_count": 4,
   "id": "b6e41a38-4f04-44e4-818c-5ac5237866e9",
   "metadata": {
    "tags": []
   },
   "outputs": [
    {
     "name": "stdout",
     "output_type": "stream",
     "text": [
      "6.87 ms ± 1.18 ms per loop (mean ± std. dev. of 7 runs, 1 loop each)\n"
     ]
    }
   ],
   "source": [
    "obstacles_map = jnp.ones((64, 64))\n",
    "obstacles_map = obstacles_map.at[10:20, 10:20].set(0).at[30:40, 30:40].set(0).at[10:20, 30:40].set(0).at[30:40, 10:20].set(0)\n",
    "start_map = jnp.zeros((64, 64)).at[1, 1].set(1)\n",
    "goal_map = jnp.zeros((64, 64)).at[62, 62].set(1)\n",
    "cost_map = obstacles_map\n",
    "\n",
    "da = differentiable_astar.DifferentiableAstar()\n",
    "%timeit da(cost_map, start_map, goal_map, obstacles_map)"
   ]
  },
  {
   "cell_type": "code",
   "execution_count": 3,
   "id": "a4979470-6a38-4dfc-b427-17e855770ca0",
   "metadata": {
    "tags": []
   },
   "outputs": [
    {
     "data": {
      "text/plain": [
       "<matplotlib.image.AxesImage at 0x7fe0b041eeb0>"
      ]
     },
     "execution_count": 3,
     "metadata": {},
     "output_type": "execute_result"
    },
    {
     "data": {
      "image/png": "[encoded data removed]",
      "text/plain": [
       "<Figure size 640x480 with 1 Axes>"
      ]
     },
     "metadata": {},
     "output_type": "display_data"
    }
   ],
   "source": [
    "output = da(cost_map, start_map, goal_map, obstacles_map)\n",
    "plt.imshow(output.path_map)"
   ]
  },
  {
   "cell_type": "code",
   "execution_count": 123,
   "id": "08fe6d4c-a326-4a24-abcb-ff13ccb52ee9",
   "metadata": {
    "tags": []
   },
   "outputs": [
    {
     "name": "stdout",
     "output_type": "stream",
     "text": [
      "166 ms ± 765 µs per loop (mean ± std. dev. of 7 runs, 10 loops each)\n"
     ]
    }
   ],
   "source": [
    "from neural_astar.planner import VanillaAstar, NeuralAstar\n",
    "import torch\n",
    "\n",
    "na = NeuralAstar()\n",
    "\n",
    "map_designs_t = torch.tensor(map_designs.to_py()).permute(0, 3, 1, 2)\n",
    "start_maps_t = torch.tensor(start_maps.to_py()).permute(0, 3, 1, 2)\n",
    "goal_maps_t = torch.tensor(goal_maps.to_py()).permute(0, 3, 1, 2)\n",
    "\n",
    "%timeit na.forward(map_designs_t, start_maps_t, goal_maps_t)"
   ]
  },
  {
   "cell_type": "code",
   "execution_count": null,
   "id": "02e07d38-ff4d-4f90-8c17-12fc37a466eb",
   "metadata": {},
   "outputs": [],
   "source": []
  }
 ],
 "metadata": {
  "kernelspec": {
   "display_name": "Python 3 (ipykernel)",
   "language": "python",
   "name": "python3"
  },
  "language_info": {
   "codemirror_mode": {
    "name": "ipython",
    "version": 3
   },
   "file_extension": ".py",
   "mimetype": "text/x-python",
   "name": "python",
   "nbconvert_exporter": "python",
   "pygments_lexer": "ipython3",
   "version": "3.9.5"
  }
 },
 "nbformat": 4,
 "nbformat_minor": 5
}
